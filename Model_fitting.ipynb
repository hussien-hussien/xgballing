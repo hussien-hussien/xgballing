{
 "cells": [
  {
   "cell_type": "code",
   "execution_count": 26,
   "metadata": {},
   "outputs": [],
   "source": [
    "import pandas as pd\n",
    "import numpy as np\n",
    "import matplotlib.pyplot as plt\n",
    "import seaborn as sns\n",
    "from math import pi\n",
    "from sklearn.utils import shuffle\n",
    "from sklearn.model_selection import GridSearchCV, KFold\n",
    "from sklearn.linear_model import LogisticRegression\n",
    "from sklearn.feature_selection import VarianceThreshold\n",
    "from sklearn.neighbors import  KNeighborsClassifier\n",
    "import torch\n",
    "from IPython.display import display_html\n",
    "from sklearn.svm import SVC\n",
    "from sklearn.preprocessing import StandardScaler\n",
    "from sklearn.utils.multiclass import unique_labels\n",
    "from sklearn.pipeline import Pipeline\n",
    "from sklearn.metrics import accuracy_score, make_scorer, confusion_matrix, f1_score, plot_confusion_matrix\n",
    "from sklearn.metrics import balanced_accuracy_score, log_loss, precision_score, recall_score, plot_confusion_matrix\n",
    "from sklearn.decomposition import PCA\n",
    "import lightgbm as lgb\n",
    "import xgboost as xgb\n",
    "from xgboost import XGBClassifier\n",
    "import gc\n",
    "import statsmodels.api as sm\n",
    "\n",
    "%matplotlib inline"
   ]
  },
  {
   "cell_type": "code",
   "execution_count": 2,
   "metadata": {},
   "outputs": [],
   "source": [
    "# Models to Test: KMeans, XGboost, LogReg, SVM"
   ]
  },
  {
   "cell_type": "markdown",
   "metadata": {},
   "source": [
    "## Load, shuffle and Split"
   ]
  },
  {
   "cell_type": "code",
   "execution_count": 48,
   "metadata": {},
   "outputs": [],
   "source": [
    "# Load data\n",
    "tourney_data = pd.read_csv('tourney_result_2003+.csv')\n",
    "tourney_data.drop_duplicates(inplace=True)\n",
    "# split data into training (2003-2015) and test (2016-2019)\n",
    "tourney_data_train = tourney_data[tourney_data['Season'] <= 2015].drop('Unnamed: 0',axis=1)\n",
    "tourney_data_test = tourney_data[tourney_data['Season'] >= 2016].drop('Unnamed: 0',axis=1)"
   ]
  },
  {
   "cell_type": "code",
   "execution_count": 49,
   "metadata": {},
   "outputs": [],
   "source": [
    "# Split Data on both training and test sets\n",
    "tourney_data_train_clean = tourney_data_train.drop(['Season', 'WTeamID', 'LTeamID','LDivision','WDivision'], axis=1)\n",
    "tourney_data_test_clean = tourney_data_test.drop(['Season', 'WTeamID', 'LTeamID','LDivision','WDivision'], axis=1)\n",
    "# Train data\n",
    "X_train = tourney_data_train_clean.drop('result', axis=1)\n",
    "y_train = tourney_data_train_clean.result\n",
    "# Test data\n",
    "X_test = tourney_data_test_clean.drop('result', axis=1)\n",
    "y_test = tourney_data_test_clean.result\n",
    "\n",
    "#X_train, y_train = shuffle(X_train, y_train)"
   ]
  },
  {
   "cell_type": "markdown",
   "metadata": {},
   "source": [
    "## Model fitting and CV"
   ]
  },
  {
   "cell_type": "code",
   "execution_count": 50,
   "metadata": {},
   "outputs": [],
   "source": [
    "# For all models, perform PCA and scaling"
   ]
  },
  {
   "cell_type": "code",
   "execution_count": 51,
   "metadata": {},
   "outputs": [
    {
     "name": "stdout",
     "output_type": "stream",
     "text": [
      "Best log_loss: 0.5521, with best C: 0.1\n"
     ]
    }
   ],
   "source": [
    "# Logistic Regression -> l2 so irrelevant data can be reduced to zero\n",
    "model_pipeline_logreg = Pipeline([\n",
    "    ('scale', StandardScaler()),\n",
    "    ('pca', PCA(0.90, svd_solver='full')),\n",
    "    ('logreg', LogisticRegression(solver='liblinear',penalty='l2'))\n",
    "])\n",
    "\n",
    "params = {'logreg__C': np.logspace(start=-5, stop=3, num=9)}\n",
    "\n",
    "logreg_model = GridSearchCV(model_pipeline_logreg, \n",
    "                   params, \n",
    "                   cv=5,\n",
    "                   scoring='neg_log_loss', \n",
    "                   refit=True)\n",
    "\n",
    "logreg_model.fit(X_train, y_train)\n",
    "\n",
    "print('Best log_loss: {:.4}, with best C: {}'.format(-logreg_model.best_score_, logreg_model.best_params_['logreg__C']))\n"
   ]
  },
  {
   "cell_type": "code",
   "execution_count": 52,
   "metadata": {},
   "outputs": [
    {
     "name": "stdout",
     "output_type": "stream",
     "text": [
      "Best log_loss: 0.5538, with best gamma: 1e-05 and kernel: rbf and C: 1000.0\n"
     ]
    }
   ],
   "source": [
    "# SVM\n",
    "model_pipeline_svm = Pipeline([\n",
    "    ('scale', StandardScaler()),\n",
    "    ('pca', PCA(0.90, svd_solver='full')),\n",
    "    ('svm', SVC(kernel=\"rbf\", probability=True))\n",
    "])\n",
    "\n",
    "# Tuning parameters\n",
    "kernel = ['rbf'] #Tested ['rbf','sigmoid']\n",
    "gamma = [0.00001] # Tested np.linspace(1e-5, 5, num=10)\n",
    "C = [1000.0] # Tested np.logspace(start=-5, stop=3, num=9)\n",
    "param_grid = {'svm__gamma': gamma,\n",
    "            'svm__kernel': kernel,\n",
    "            'svm__C': C }\n",
    "\n",
    "svm_model = GridSearchCV(model_pipeline_svm,\n",
    "                    cv=5, \n",
    "                    param_grid=param_grid, \n",
    "                    scoring='neg_log_loss', \n",
    "                    refit=True)\n",
    "\n",
    "svm_model.fit(X_train, y_train)\n",
    "\n",
    "print('Best log_loss: {:.4}, with best gamma: {} and kernel: {} and C: {}'.format(-svm_model.best_score_, \n",
    "                                                                       svm_model.best_params_['svm__gamma'],\n",
    "                                                                        svm_model.best_params_['svm__kernel'],\n",
    "                                                                        svm_model.best_params_['svm__C']))"
   ]
  },
  {
   "cell_type": "code",
   "execution_count": 53,
   "metadata": {},
   "outputs": [
    {
     "name": "stdout",
     "output_type": "stream",
     "text": [
      "Best log_loss: 0.3485, with best K: 9\n"
     ]
    }
   ],
   "source": [
    "# KMeans\n",
    "# Logistic Regression -> l2 so irrelevant data can be \n",
    "model_pipeline_knn = Pipeline([\n",
    "    ('scale', StandardScaler()),\n",
    "    ('pca', PCA(0.90, svd_solver='full')),\n",
    "    ('knn', KNeighborsClassifier())\n",
    "])\n",
    "params = {\n",
    "         'knn__n_neighbors': [9] # Tested np.array(range(1,30))\n",
    "}\n",
    "\n",
    "knn_model = GridSearchCV(model_pipeline_knn, \n",
    "                   params,\n",
    "                   cv=5, \n",
    "                   scoring='neg_log_loss', \n",
    "                   refit=True)\n",
    "\n",
    "knn_model.fit(X_train, y_train)\n",
    "\n",
    "print('Best log_loss: {:.4}, with best K: {}'.format(-knn_model.best_score_, \n",
    "                                                     knn_model.best_params_['knn__n_neighbors']))"
   ]
  },
  {
   "cell_type": "code",
   "execution_count": null,
   "metadata": {},
   "outputs": [],
   "source": []
  },
  {
   "cell_type": "code",
   "execution_count": 54,
   "metadata": {},
   "outputs": [
    {
     "name": "stdout",
     "output_type": "stream",
     "text": [
      "Fitting 5 folds for each of 1 candidates, totalling 5 fits\n"
     ]
    },
    {
     "name": "stderr",
     "output_type": "stream",
     "text": [
      "[Parallel(n_jobs=10)]: Using backend LokyBackend with 10 concurrent workers.\n",
      "[Parallel(n_jobs=10)]: Done   5 out of   5 | elapsed:    4.6s finished\n"
     ]
    },
    {
     "name": "stdout",
     "output_type": "stream",
     "text": [
      "-0.2400547381781691\n",
      "{'xgb__colsample_bytree': 0.7, 'xgb__gamma': 1, 'xgb__learning_rate': 0.03, 'xgb__max_depth': 6, 'xgb__min_child_weight': 1, 'xgb__missing': -999, 'xgb__n_estimators': 1000, 'xgb__nthread': 4, 'xgb__objective': 'binary:logistic', 'xgb__reg_lambda': 6, 'xgb__seed': 1337, 'xgb__silent': 1, 'xgb__subsample': 0.8}\n"
     ]
    }
   ],
   "source": [
    "# XGBoost\n",
    "# https://www.kaggle.com/khoongweihao/ncaam2020-xgboost-lightgbm-k-fold-baseline\n",
    "model_pipeline_xgb = Pipeline([\n",
    "    ('scale', StandardScaler()),\n",
    "    ('pca', PCA(0.90, svd_solver='full')),\n",
    "    ('xgb', XGBClassifier())\n",
    "])\n",
    "\n",
    "parameters = {'xgb__nthread':[4], \n",
    "              #when use hyperthread, xgboost may become slower\n",
    "              'xgb__objective':['binary:logistic'],\n",
    "              'xgb__learning_rate': [0.03], # Tested [0.003,0.03,0.3]\n",
    "              # As it decreases, we the weight of each individual tree turns down\n",
    "              'xgb__max_depth': [6], #Tested [6,7,8]\n",
    "              'xgb__reg_lambda': [6], # Regularization parameters Tested [2,4,6]\n",
    "              'xgb__gamma':[1], # Min threshold gain for tree pruning, tested [0,3,6], \n",
    "              #0 was best but maybe over fit so we try 1\n",
    "              'xgb__min_child_weight': [1], # Deault\n",
    "              'xgb__silent': [1],\n",
    "              'xgb__subsample': [0.8],\n",
    "              'xgb__colsample_bytree': [0.7],\n",
    "              'xgb__n_estimators': [1000], #number of trees, change it to 1000 for better results\n",
    "              'xgb__missing':[-999],\n",
    "              'xgb__seed': [1337],\n",
    "             }\n",
    "\n",
    "\n",
    "xgboost_model = GridSearchCV(model_pipeline_xgb, \n",
    "                   parameters, \n",
    "                   n_jobs=10, \n",
    "                   cv=5, \n",
    "                   scoring='neg_log_loss',\n",
    "                   verbose=1, \n",
    "                   refit=True)\n",
    "xgboost_model.fit(X_train, y_train)\n",
    "print(xgboost_model.best_score_)\n",
    "print(xgboost_model.best_params_)"
   ]
  },
  {
   "cell_type": "code",
   "execution_count": 55,
   "metadata": {},
   "outputs": [
    {
     "data": {
      "text/plain": [
       "0"
      ]
     },
     "execution_count": 55,
     "metadata": {},
     "output_type": "execute_result"
    }
   ],
   "source": [
    "# Script to send a mac notification to me when the models are done training!\n",
    "import os\n",
    "os.system(\"osascript -e 'display notification \\\" Your best score is \"+str(xgboost_model.best_score_)+\". Open Jupyter notebook to check your score. \\\" with title \\\"Model is done Fitting\\\" sound name \\\"Bell\\\"'\")"
   ]
  },
  {
   "cell_type": "markdown",
   "metadata": {},
   "source": [
    "## Compare Models\n",
    "Compare the best of: SVM, Logistic Regression, K-means, XGBoost"
   ]
  },
  {
   "cell_type": "code",
   "execution_count": 56,
   "metadata": {},
   "outputs": [],
   "source": [
    "# Get test results"
   ]
  },
  {
   "cell_type": "code",
   "execution_count": 57,
   "metadata": {},
   "outputs": [
    {
     "data": {
      "text/plain": [
       "0.57002025439284"
      ]
     },
     "execution_count": 57,
     "metadata": {},
     "output_type": "execute_result"
    }
   ],
   "source": [
    "# Get test predictions For Regularized Logistic Regression\n",
    "y_pred_logreg = logreg_model.predict_proba(X_test)\n",
    "log_loss(y_test, y_pred_logreg)"
   ]
  },
  {
   "cell_type": "code",
   "execution_count": 58,
   "metadata": {},
   "outputs": [
    {
     "data": {
      "text/plain": [
       "0.5681365214257659"
      ]
     },
     "execution_count": 58,
     "metadata": {},
     "output_type": "execute_result"
    }
   ],
   "source": [
    "# Get test predictions for SVM\n",
    "y_pred_svm = svm_model.predict_proba(X_test)\n",
    "log_loss(y_test, y_pred_svm)"
   ]
  },
  {
   "cell_type": "code",
   "execution_count": 59,
   "metadata": {},
   "outputs": [
    {
     "data": {
      "text/plain": [
       "0.3225090297239162"
      ]
     },
     "execution_count": 59,
     "metadata": {},
     "output_type": "execute_result"
    }
   ],
   "source": [
    "# Get test predictions for KNN\n",
    "y_pred_knn = knn_model.predict_proba(X_test)\n",
    "log_loss(y_test, y_pred_knn)"
   ]
  },
  {
   "cell_type": "code",
   "execution_count": 60,
   "metadata": {},
   "outputs": [
    {
     "data": {
      "text/plain": [
       "0.23794785012802067"
      ]
     },
     "execution_count": 60,
     "metadata": {},
     "output_type": "execute_result"
    }
   ],
   "source": [
    "# Get test predictions for XGBoost\n",
    "y_pred_knn = xgboost_model.predict_proba(X_test,)\n",
    "log_loss(y_test, y_pred_knn)"
   ]
  },
  {
   "cell_type": "code",
   "execution_count": null,
   "metadata": {},
   "outputs": [],
   "source": []
  },
  {
   "cell_type": "code",
   "execution_count": 61,
   "metadata": {},
   "outputs": [],
   "source": [
    "# Compare test losses\n",
    "results = {'Model':['Logistic Regression',\n",
    "                    'SVM',\n",
    "                    'KNN',\n",
    "                    'XGBoost'],\n",
    "            'Hypertuned Parameters':[logreg_model.best_params_,\n",
    "                                svm_model.best_params_,\n",
    "                                knn_model.best_params_,\n",
    "                                xgboost_model.best_params_],\n",
    "            'Log Loss':[log_loss(y_test, logreg_model.predict_proba(X_test)),\n",
    "                        log_loss(y_test, svm_model.predict_proba(X_test)),\n",
    "                        log_loss(y_test, knn_model.predict_proba(X_test)),\n",
    "                        log_loss(y_test, xgboost_model.predict_proba(X_test))],\n",
    "            'Accuracy':[accuracy_score(y_test, logreg_model.predict(X_test)),\n",
    "                        accuracy_score(y_test, svm_model.predict(X_test)),\n",
    "                        accuracy_score(y_test, knn_model.predict(X_test)),\n",
    "                        accuracy_score(y_test, xgboost_model.predict(X_test))],\n",
    "            'f1_score':[f1_score(y_test, logreg_model.predict(X_test)),\n",
    "                        f1_score(y_test, svm_model.predict(X_test)),\n",
    "                        f1_score(y_test, knn_model.predict(X_test)),\n",
    "                        f1_score(y_test, xgboost_model.predict(X_test))]}"
   ]
  },
  {
   "cell_type": "code",
   "execution_count": 62,
   "metadata": {},
   "outputs": [
    {
     "data": {
      "text/plain": [
       "<matplotlib.axes._subplots.AxesSubplot at 0x145f3eb50>"
      ]
     },
     "execution_count": 62,
     "metadata": {},
     "output_type": "execute_result"
    },
    {
     "data": {
      "image/png": "[encoded data removed]",
      "text/plain": [
       "<Figure size 432x288 with 2 Axes>"
      ]
     },
     "metadata": {
      "needs_background": "light"
     },
     "output_type": "display_data"
    }
   ],
   "source": [
    "# Build table\n",
    "# Visualize the lossess\n",
    "results_table = pd.DataFrame(results)\n",
    "sns.heatmap(results_table.drop(['Hypertuned Parameters','Model'],axis=1), \n",
    "            annot=True,\n",
    "           yticklabels=['Logistic Regression',\n",
    "                    'SVM',\n",
    "                    'KNN',\n",
    "                    'XGBoost'],\n",
    "           linewidths=1)"
   ]
  },
  {
   "cell_type": "code",
   "execution_count": 63,
   "metadata": {},
   "outputs": [
    {
     "data": {
      "text/html": [
       "<div>\n",
       "<style scoped>\n",
       "    .dataframe tbody tr th:only-of-type {\n",
       "        vertical-align: middle;\n",
       "    }\n",
       "\n",
       "    .dataframe tbody tr th {\n",
       "        vertical-align: top;\n",
       "    }\n",
       "\n",
       "    .dataframe thead th {\n",
       "        text-align: right;\n",
       "    }\n",
       "</style>\n",
       "<table border=\"1\" class=\"dataframe\">\n",
       "  <thead>\n",
       "    <tr style=\"text-align: right;\">\n",
       "      <th></th>\n",
       "      <th>Model</th>\n",
       "      <th>Hypertuned Parameters</th>\n",
       "      <th>Log Loss</th>\n",
       "      <th>Accuracy</th>\n",
       "      <th>f1_score</th>\n",
       "    </tr>\n",
       "  </thead>\n",
       "  <tbody>\n",
       "    <tr>\n",
       "      <th>0</th>\n",
       "      <td>Logistic Regression</td>\n",
       "      <td>{'logreg__C': 0.1}</td>\n",
       "      <td>0.570020</td>\n",
       "      <td>0.690299</td>\n",
       "      <td>0.690299</td>\n",
       "    </tr>\n",
       "    <tr>\n",
       "      <th>1</th>\n",
       "      <td>SVM</td>\n",
       "      <td>{'svm__C': 1000.0, 'svm__gamma': 1e-05, 'svm__...</td>\n",
       "      <td>0.568137</td>\n",
       "      <td>0.690299</td>\n",
       "      <td>0.690299</td>\n",
       "    </tr>\n",
       "    <tr>\n",
       "      <th>2</th>\n",
       "      <td>KNN</td>\n",
       "      <td>{'knn__n_neighbors': 9}</td>\n",
       "      <td>0.322509</td>\n",
       "      <td>0.873134</td>\n",
       "      <td>0.873134</td>\n",
       "    </tr>\n",
       "    <tr>\n",
       "      <th>3</th>\n",
       "      <td>XGBoost</td>\n",
       "      <td>{'xgb__colsample_bytree': 0.7, 'xgb__gamma': 1...</td>\n",
       "      <td>0.237948</td>\n",
       "      <td>0.906716</td>\n",
       "      <td>0.906367</td>\n",
       "    </tr>\n",
       "  </tbody>\n",
       "</table>\n",
       "</div>"
      ],
      "text/plain": [
       "                 Model                              Hypertuned Parameters  \\\n",
       "0  Logistic Regression                                 {'logreg__C': 0.1}   \n",
       "1                  SVM  {'svm__C': 1000.0, 'svm__gamma': 1e-05, 'svm__...   \n",
       "2                  KNN                            {'knn__n_neighbors': 9}   \n",
       "3              XGBoost  {'xgb__colsample_bytree': 0.7, 'xgb__gamma': 1...   \n",
       "\n",
       "   Log Loss  Accuracy  f1_score  \n",
       "0  0.570020  0.690299  0.690299  \n",
       "1  0.568137  0.690299  0.690299  \n",
       "2  0.322509  0.873134  0.873134  \n",
       "3  0.237948  0.906716  0.906367  "
      ]
     },
     "execution_count": 63,
     "metadata": {},
     "output_type": "execute_result"
    }
   ],
   "source": [
    "results_table"
   ]
  },
  {
   "cell_type": "code",
   "execution_count": 64,
   "metadata": {},
   "outputs": [
    {
     "data": {
      "text/plain": [
       "<matplotlib.axes._subplots.AxesSubplot at 0x1467d6490>"
      ]
     },
     "execution_count": 64,
     "metadata": {},
     "output_type": "execute_result"
    },
    {
     "data": {
      "image/png": "[encoded data removed]",
      "text/plain": [
       "<Figure size 432x288 with 1 Axes>"
      ]
     },
     "metadata": {
      "needs_background": "light"
     },
     "output_type": "display_data"
    }
   ],
   "source": [
    "fig, ax = plt.subplots()\n",
    "confusion_matrix2 = sns.heatmap(confusion_matrix(y_test, xgboost_model.predict(X_test)),annot=True,cbar=False,fmt='.4g')\n",
    "confusion_matrix2"
   ]
  },
  {
   "cell_type": "markdown",
   "metadata": {},
   "source": [
    "## Compare to Betting odds"
   ]
  },
  {
   "cell_type": "markdown",
   "metadata": {},
   "source": [
    "Future Work"
   ]
  },
  {
   "cell_type": "code",
   "execution_count": 65,
   "metadata": {},
   "outputs": [
    {
     "data": {
      "image/png": "[encoded data removed]",
      "text/plain": [
       "<Figure size 432x288 with 2 Axes>"
      ]
     },
     "metadata": {
      "needs_background": "light"
     },
     "output_type": "display_data"
    }
   ],
   "source": [
    "confusion = plot_confusion_matrix(y_true=y_test, estimator=xgboost_model, X=X_test, cmap='magma',values_format='.5g')"
   ]
  },
  {
   "cell_type": "code",
   "execution_count": 47,
   "metadata": {},
   "outputs": [],
   "source": [
    "confusion.figure_.savefig('confusion.png',transparent=True)\n",
    "#plt.save_fig('confusion.png')"
   ]
  },
  {
   "cell_type": "code",
   "execution_count": null,
   "metadata": {},
   "outputs": [],
   "source": []
  }
 ],
 "metadata": {
  "kernelspec": {
   "display_name": "Python 3",
   "language": "python",
   "name": "python3"
  },
  "language_info": {
   "codemirror_mode": {
    "name": "ipython",
    "version": 3
   },
   "file_extension": ".py",
   "mimetype": "text/x-python",
   "name": "python",
   "nbconvert_exporter": "python",
   "pygments_lexer": "ipython3",
   "version": "3.7.4"
  }
 },
 "nbformat": 4,
 "nbformat_minor": 4
}
